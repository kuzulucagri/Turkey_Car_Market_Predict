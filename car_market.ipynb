{
 "cells": [
  {
   "cell_type": "markdown",
   "id": "8ab026a9",
   "metadata": {},
   "source": [
    "Import the libraries"
   ]
  },
  {
   "cell_type": "code",
   "execution_count": 1,
   "id": "55f38905",
   "metadata": {},
   "outputs": [],
   "source": [
    "import numpy as np\n",
    "import pandas as pd\n",
    "from matplotlib import pyplot as plt"
   ]
  },
  {
   "cell_type": "markdown",
   "id": "362acd1b",
   "metadata": {},
   "source": [
    "Load the dataset with using pandas"
   ]
  },
  {
   "cell_type": "code",
   "execution_count": 2,
   "id": "cf771a0a",
   "metadata": {},
   "outputs": [
    {
     "data": {
      "text/html": [
       "<div>\n",
       "<style scoped>\n",
       "    .dataframe tbody tr th:only-of-type {\n",
       "        vertical-align: middle;\n",
       "    }\n",
       "\n",
       "    .dataframe tbody tr th {\n",
       "        vertical-align: top;\n",
       "    }\n",
       "\n",
       "    .dataframe thead th {\n",
       "        text-align: right;\n",
       "    }\n",
       "</style>\n",
       "<table border=\"1\" class=\"dataframe\">\n",
       "  <thead>\n",
       "    <tr style=\"text-align: right;\">\n",
       "      <th></th>\n",
       "      <th>İlan Tarihi</th>\n",
       "      <th>Marka</th>\n",
       "      <th>Arac Tip Grubu</th>\n",
       "      <th>Arac Tip</th>\n",
       "      <th>Model Yıl</th>\n",
       "      <th>Yakıt Turu</th>\n",
       "      <th>Vites</th>\n",
       "      <th>CCM</th>\n",
       "      <th>Beygir Gucu</th>\n",
       "      <th>Renk</th>\n",
       "      <th>Kasa Tipi</th>\n",
       "      <th>Kimden</th>\n",
       "      <th>Durum</th>\n",
       "      <th>Km</th>\n",
       "      <th>Fiyat</th>\n",
       "    </tr>\n",
       "  </thead>\n",
       "  <tbody>\n",
       "    <tr>\n",
       "      <th>0</th>\n",
       "      <td>27/05/2020</td>\n",
       "      <td>Jaguar</td>\n",
       "      <td>XF</td>\n",
       "      <td>2.0 D Prestige Plus</td>\n",
       "      <td>2017.0</td>\n",
       "      <td>Dizel</td>\n",
       "      <td>Otomatik Vites</td>\n",
       "      <td>1801-2000 cc</td>\n",
       "      <td>176-200 BG</td>\n",
       "      <td>Lacivert</td>\n",
       "      <td>Hatchback 5 Kapı</td>\n",
       "      <td>Galeriden</td>\n",
       "      <td>2. El</td>\n",
       "      <td>26100</td>\n",
       "      <td>634500</td>\n",
       "    </tr>\n",
       "    <tr>\n",
       "      <th>1</th>\n",
       "      <td>16/06/2020</td>\n",
       "      <td>Acura</td>\n",
       "      <td>CL</td>\n",
       "      <td>-</td>\n",
       "      <td>2015.0</td>\n",
       "      <td>Dizel</td>\n",
       "      <td>Yarı Otomatik Vites</td>\n",
       "      <td>1301-1600 cc</td>\n",
       "      <td>101-125 BG</td>\n",
       "      <td>Mavi</td>\n",
       "      <td>Sedan</td>\n",
       "      <td>Sahibinden</td>\n",
       "      <td>2. El</td>\n",
       "      <td>127000</td>\n",
       "      <td>151500</td>\n",
       "    </tr>\n",
       "    <tr>\n",
       "      <th>2</th>\n",
       "      <td>14/06/2020</td>\n",
       "      <td>Acura</td>\n",
       "      <td>CL</td>\n",
       "      <td>2.2</td>\n",
       "      <td>1994.0</td>\n",
       "      <td>Benzin/LPG</td>\n",
       "      <td>Düz Vites</td>\n",
       "      <td>1301-1600 cc</td>\n",
       "      <td>101-125 BG</td>\n",
       "      <td>Turkuaz</td>\n",
       "      <td>Sedan</td>\n",
       "      <td>Sahibinden</td>\n",
       "      <td>2. El</td>\n",
       "      <td>175000</td>\n",
       "      <td>19750</td>\n",
       "    </tr>\n",
       "    <tr>\n",
       "      <th>3</th>\n",
       "      <td>11/06/2020</td>\n",
       "      <td>Acura</td>\n",
       "      <td>CL</td>\n",
       "      <td>-</td>\n",
       "      <td>2013.0</td>\n",
       "      <td>Dizel</td>\n",
       "      <td>Düz Vites</td>\n",
       "      <td>1301-1600 cc</td>\n",
       "      <td>76-100 BG</td>\n",
       "      <td>Kahverengi</td>\n",
       "      <td>Sedan</td>\n",
       "      <td>Sahibinden</td>\n",
       "      <td>2. El</td>\n",
       "      <td>325</td>\n",
       "      <td>52000</td>\n",
       "    </tr>\n",
       "    <tr>\n",
       "      <th>4</th>\n",
       "      <td>11/06/2020</td>\n",
       "      <td>Acura</td>\n",
       "      <td>CL</td>\n",
       "      <td>2.2</td>\n",
       "      <td>2010.0</td>\n",
       "      <td>Dizel</td>\n",
       "      <td>Otomatik Vites</td>\n",
       "      <td>1801-2000 cc</td>\n",
       "      <td>151-175 BG</td>\n",
       "      <td>Beyaz</td>\n",
       "      <td>Sedan</td>\n",
       "      <td>Sahibinden</td>\n",
       "      <td>2. El</td>\n",
       "      <td>207000</td>\n",
       "      <td>148750</td>\n",
       "    </tr>\n",
       "  </tbody>\n",
       "</table>\n",
       "</div>"
      ],
      "text/plain": [
       "  İlan Tarihi   Marka Arac Tip Grubu             Arac Tip  Model Yıl  \\\n",
       "0  27/05/2020  Jaguar             XF  2.0 D Prestige Plus     2017.0   \n",
       "1  16/06/2020   Acura             CL                    -     2015.0   \n",
       "2  14/06/2020   Acura             CL                  2.2     1994.0   \n",
       "3  11/06/2020   Acura             CL                    -     2013.0   \n",
       "4  11/06/2020   Acura             CL                  2.2     2010.0   \n",
       "\n",
       "   Yakıt Turu                Vites           CCM Beygir Gucu         Renk  \\\n",
       "0       Dizel       Otomatik Vites  1801-2000 cc  176-200 BG    Lacivert    \n",
       "1       Dizel  Yarı Otomatik Vites  1301-1600 cc  101-125 BG        Mavi    \n",
       "2  Benzin/LPG            Düz Vites  1301-1600 cc  101-125 BG     Turkuaz    \n",
       "3       Dizel            Düz Vites  1301-1600 cc   76-100 BG  Kahverengi    \n",
       "4       Dizel       Otomatik Vites  1801-2000 cc  151-175 BG       Beyaz    \n",
       "\n",
       "          Kasa Tipi      Kimden  Durum      Km   Fiyat  \n",
       "0  Hatchback 5 Kapı   Galeriden  2. El   26100  634500  \n",
       "1             Sedan  Sahibinden  2. El  127000  151500  \n",
       "2             Sedan  Sahibinden  2. El  175000   19750  \n",
       "3             Sedan  Sahibinden  2. El     325   52000  \n",
       "4             Sedan  Sahibinden  2. El  207000  148750  "
      ]
     },
     "execution_count": 2,
     "metadata": {},
     "output_type": "execute_result"
    }
   ],
   "source": [
    "df = pd.read_csv(\"turkey_car_market.csv\")\n",
    "df.head()"
   ]
  },
  {
   "cell_type": "code",
   "execution_count": 3,
   "id": "2287d89d",
   "metadata": {},
   "outputs": [
    {
     "name": "stdout",
     "output_type": "stream",
     "text": [
      "<class 'pandas.core.frame.DataFrame'>\n",
      "RangeIndex: 9044 entries, 0 to 9043\n",
      "Data columns (total 15 columns):\n",
      " #   Column          Non-Null Count  Dtype  \n",
      "---  ------          --------------  -----  \n",
      " 0   İlan Tarihi     9044 non-null   object \n",
      " 1   Marka           9044 non-null   object \n",
      " 2   Arac Tip Grubu  9044 non-null   object \n",
      " 3   Arac Tip        9044 non-null   object \n",
      " 4   Model Yıl       9044 non-null   float64\n",
      " 5   Yakıt Turu      9044 non-null   object \n",
      " 6   Vites           9044 non-null   object \n",
      " 7   CCM             9044 non-null   object \n",
      " 8   Beygir Gucu     9044 non-null   object \n",
      " 9   Renk            9044 non-null   object \n",
      " 10  Kasa Tipi       9044 non-null   object \n",
      " 11  Kimden          9044 non-null   object \n",
      " 12  Durum           9044 non-null   object \n",
      " 13  Km              9044 non-null   int64  \n",
      " 14  Fiyat           9044 non-null   int64  \n",
      "dtypes: float64(1), int64(2), object(12)\n",
      "memory usage: 1.0+ MB\n"
     ]
    }
   ],
   "source": [
    "df.info()"
   ]
  },
  {
   "cell_type": "markdown",
   "id": "d433b3e2",
   "metadata": {},
   "source": [
    "# Data Cleaning"
   ]
  },
  {
   "cell_type": "markdown",
   "id": "1681beba",
   "metadata": {},
   "source": [
    "In the dataset, we have Listing Date as **İlan Tarihi**, Color as **Renk** and From who columns as **Kimden** so it is unnecessary columns, we can drop it."
   ]
  },
  {
   "cell_type": "code",
   "execution_count": 4,
   "id": "b1c2bfbb",
   "metadata": {},
   "outputs": [
    {
     "data": {
      "text/html": [
       "<div>\n",
       "<style scoped>\n",
       "    .dataframe tbody tr th:only-of-type {\n",
       "        vertical-align: middle;\n",
       "    }\n",
       "\n",
       "    .dataframe tbody tr th {\n",
       "        vertical-align: top;\n",
       "    }\n",
       "\n",
       "    .dataframe thead th {\n",
       "        text-align: right;\n",
       "    }\n",
       "</style>\n",
       "<table border=\"1\" class=\"dataframe\">\n",
       "  <thead>\n",
       "    <tr style=\"text-align: right;\">\n",
       "      <th></th>\n",
       "      <th>Marka</th>\n",
       "      <th>Arac Tip Grubu</th>\n",
       "      <th>Arac Tip</th>\n",
       "      <th>Model Yıl</th>\n",
       "      <th>Yakıt Turu</th>\n",
       "      <th>Vites</th>\n",
       "      <th>CCM</th>\n",
       "      <th>Beygir Gucu</th>\n",
       "      <th>Kasa Tipi</th>\n",
       "      <th>Durum</th>\n",
       "      <th>Km</th>\n",
       "      <th>Fiyat</th>\n",
       "    </tr>\n",
       "  </thead>\n",
       "  <tbody>\n",
       "    <tr>\n",
       "      <th>0</th>\n",
       "      <td>Jaguar</td>\n",
       "      <td>XF</td>\n",
       "      <td>2.0 D Prestige Plus</td>\n",
       "      <td>2017.0</td>\n",
       "      <td>Dizel</td>\n",
       "      <td>Otomatik Vites</td>\n",
       "      <td>1801-2000 cc</td>\n",
       "      <td>176-200 BG</td>\n",
       "      <td>Hatchback 5 Kapı</td>\n",
       "      <td>2. El</td>\n",
       "      <td>26100</td>\n",
       "      <td>634500</td>\n",
       "    </tr>\n",
       "    <tr>\n",
       "      <th>1</th>\n",
       "      <td>Acura</td>\n",
       "      <td>CL</td>\n",
       "      <td>-</td>\n",
       "      <td>2015.0</td>\n",
       "      <td>Dizel</td>\n",
       "      <td>Yarı Otomatik Vites</td>\n",
       "      <td>1301-1600 cc</td>\n",
       "      <td>101-125 BG</td>\n",
       "      <td>Sedan</td>\n",
       "      <td>2. El</td>\n",
       "      <td>127000</td>\n",
       "      <td>151500</td>\n",
       "    </tr>\n",
       "    <tr>\n",
       "      <th>2</th>\n",
       "      <td>Acura</td>\n",
       "      <td>CL</td>\n",
       "      <td>2.2</td>\n",
       "      <td>1994.0</td>\n",
       "      <td>Benzin/LPG</td>\n",
       "      <td>Düz Vites</td>\n",
       "      <td>1301-1600 cc</td>\n",
       "      <td>101-125 BG</td>\n",
       "      <td>Sedan</td>\n",
       "      <td>2. El</td>\n",
       "      <td>175000</td>\n",
       "      <td>19750</td>\n",
       "    </tr>\n",
       "    <tr>\n",
       "      <th>3</th>\n",
       "      <td>Acura</td>\n",
       "      <td>CL</td>\n",
       "      <td>-</td>\n",
       "      <td>2013.0</td>\n",
       "      <td>Dizel</td>\n",
       "      <td>Düz Vites</td>\n",
       "      <td>1301-1600 cc</td>\n",
       "      <td>76-100 BG</td>\n",
       "      <td>Sedan</td>\n",
       "      <td>2. El</td>\n",
       "      <td>325</td>\n",
       "      <td>52000</td>\n",
       "    </tr>\n",
       "    <tr>\n",
       "      <th>4</th>\n",
       "      <td>Acura</td>\n",
       "      <td>CL</td>\n",
       "      <td>2.2</td>\n",
       "      <td>2010.0</td>\n",
       "      <td>Dizel</td>\n",
       "      <td>Otomatik Vites</td>\n",
       "      <td>1801-2000 cc</td>\n",
       "      <td>151-175 BG</td>\n",
       "      <td>Sedan</td>\n",
       "      <td>2. El</td>\n",
       "      <td>207000</td>\n",
       "      <td>148750</td>\n",
       "    </tr>\n",
       "    <tr>\n",
       "      <th>...</th>\n",
       "      <td>...</td>\n",
       "      <td>...</td>\n",
       "      <td>...</td>\n",
       "      <td>...</td>\n",
       "      <td>...</td>\n",
       "      <td>...</td>\n",
       "      <td>...</td>\n",
       "      <td>...</td>\n",
       "      <td>...</td>\n",
       "      <td>...</td>\n",
       "      <td>...</td>\n",
       "      <td>...</td>\n",
       "    </tr>\n",
       "    <tr>\n",
       "      <th>9039</th>\n",
       "      <td>Tofaş</td>\n",
       "      <td>Şahin</td>\n",
       "      <td>1.6</td>\n",
       "      <td>1994.0</td>\n",
       "      <td>Benzin/LPG</td>\n",
       "      <td>Düz Vites</td>\n",
       "      <td>1301-1600 cc</td>\n",
       "      <td>51-75 BG</td>\n",
       "      <td>Sedan</td>\n",
       "      <td>2. El</td>\n",
       "      <td>121212</td>\n",
       "      <td>12250</td>\n",
       "    </tr>\n",
       "    <tr>\n",
       "      <th>9040</th>\n",
       "      <td>Tofaş</td>\n",
       "      <td>Şahin</td>\n",
       "      <td>Şahin 5 vites</td>\n",
       "      <td>1992.0</td>\n",
       "      <td>Benzin/LPG</td>\n",
       "      <td>Düz Vites</td>\n",
       "      <td>1301-1600 cc</td>\n",
       "      <td>76-100 BG</td>\n",
       "      <td>Sedan</td>\n",
       "      <td>2. El</td>\n",
       "      <td>54000</td>\n",
       "      <td>16300</td>\n",
       "    </tr>\n",
       "    <tr>\n",
       "      <th>9041</th>\n",
       "      <td>Tofaş</td>\n",
       "      <td>Doğan</td>\n",
       "      <td>SLX</td>\n",
       "      <td>1993.0</td>\n",
       "      <td>Benzin/LPG</td>\n",
       "      <td>Düz Vites</td>\n",
       "      <td>1301-1600 cc</td>\n",
       "      <td>76-100 BG</td>\n",
       "      <td>Sedan</td>\n",
       "      <td>2. El</td>\n",
       "      <td>135000</td>\n",
       "      <td>19000</td>\n",
       "    </tr>\n",
       "    <tr>\n",
       "      <th>9042</th>\n",
       "      <td>Tofaş</td>\n",
       "      <td>Kartal</td>\n",
       "      <td>Kartal 5 Vites</td>\n",
       "      <td>1991.0</td>\n",
       "      <td>Benzin/LPG</td>\n",
       "      <td>Düz Vites</td>\n",
       "      <td>1601-1800 cc</td>\n",
       "      <td>76-100 BG</td>\n",
       "      <td>Hatchback 5 Kapı</td>\n",
       "      <td>2. El</td>\n",
       "      <td>250000</td>\n",
       "      <td>11000</td>\n",
       "    </tr>\n",
       "    <tr>\n",
       "      <th>9043</th>\n",
       "      <td>Tofaş</td>\n",
       "      <td>Kartal</td>\n",
       "      <td>Kartal 5 Vites</td>\n",
       "      <td>1996.0</td>\n",
       "      <td>Benzin/LPG</td>\n",
       "      <td>Düz Vites</td>\n",
       "      <td>1301-1600 cc</td>\n",
       "      <td>51-75 BG</td>\n",
       "      <td>Sedan</td>\n",
       "      <td>2. El</td>\n",
       "      <td>11</td>\n",
       "      <td>15750</td>\n",
       "    </tr>\n",
       "  </tbody>\n",
       "</table>\n",
       "<p>9044 rows × 12 columns</p>\n",
       "</div>"
      ],
      "text/plain": [
       "       Marka Arac Tip Grubu             Arac Tip  Model Yıl  Yakıt Turu  \\\n",
       "0     Jaguar             XF  2.0 D Prestige Plus     2017.0       Dizel   \n",
       "1      Acura             CL                    -     2015.0       Dizel   \n",
       "2      Acura             CL                  2.2     1994.0  Benzin/LPG   \n",
       "3      Acura             CL                    -     2013.0       Dizel   \n",
       "4      Acura             CL                  2.2     2010.0       Dizel   \n",
       "...      ...            ...                  ...        ...         ...   \n",
       "9039   Tofaş          Şahin                  1.6     1994.0  Benzin/LPG   \n",
       "9040   Tofaş          Şahin        Şahin 5 vites     1992.0  Benzin/LPG   \n",
       "9041   Tofaş          Doğan                  SLX     1993.0  Benzin/LPG   \n",
       "9042   Tofaş         Kartal       Kartal 5 Vites     1991.0  Benzin/LPG   \n",
       "9043   Tofaş         Kartal       Kartal 5 Vites     1996.0  Benzin/LPG   \n",
       "\n",
       "                    Vites           CCM Beygir Gucu         Kasa Tipi  Durum  \\\n",
       "0          Otomatik Vites  1801-2000 cc  176-200 BG  Hatchback 5 Kapı  2. El   \n",
       "1     Yarı Otomatik Vites  1301-1600 cc  101-125 BG             Sedan  2. El   \n",
       "2               Düz Vites  1301-1600 cc  101-125 BG             Sedan  2. El   \n",
       "3               Düz Vites  1301-1600 cc   76-100 BG             Sedan  2. El   \n",
       "4          Otomatik Vites  1801-2000 cc  151-175 BG             Sedan  2. El   \n",
       "...                   ...           ...         ...               ...    ...   \n",
       "9039            Düz Vites  1301-1600 cc    51-75 BG             Sedan  2. El   \n",
       "9040            Düz Vites  1301-1600 cc   76-100 BG             Sedan  2. El   \n",
       "9041            Düz Vites  1301-1600 cc   76-100 BG             Sedan  2. El   \n",
       "9042            Düz Vites  1601-1800 cc   76-100 BG  Hatchback 5 Kapı  2. El   \n",
       "9043            Düz Vites  1301-1600 cc    51-75 BG             Sedan  2. El   \n",
       "\n",
       "          Km   Fiyat  \n",
       "0      26100  634500  \n",
       "1     127000  151500  \n",
       "2     175000   19750  \n",
       "3        325   52000  \n",
       "4     207000  148750  \n",
       "...      ...     ...  \n",
       "9039  121212   12250  \n",
       "9040   54000   16300  \n",
       "9041  135000   19000  \n",
       "9042  250000   11000  \n",
       "9043      11   15750  \n",
       "\n",
       "[9044 rows x 12 columns]"
      ]
     },
     "execution_count": 4,
     "metadata": {},
     "output_type": "execute_result"
    }
   ],
   "source": [
    "df1 = df.drop([\"İlan Tarihi\",\"Renk\",\"Kimden\"],axis=\"columns\")\n",
    "df1"
   ]
  },
  {
   "cell_type": "code",
   "execution_count": 5,
   "id": "1bf164ec",
   "metadata": {},
   "outputs": [
    {
     "data": {
      "text/plain": [
       "(9044, 12)"
      ]
     },
     "execution_count": 5,
     "metadata": {},
     "output_type": "execute_result"
    }
   ],
   "source": [
    "df1.shape"
   ]
  },
  {
   "cell_type": "markdown",
   "id": "82192bd9",
   "metadata": {},
   "source": [
    "I can check my null values with *isnull()* method"
   ]
  },
  {
   "cell_type": "code",
   "execution_count": 6,
   "id": "886f1d06",
   "metadata": {},
   "outputs": [
    {
     "data": {
      "text/plain": [
       "Marka             0\n",
       "Arac Tip Grubu    0\n",
       "Arac Tip          0\n",
       "Model Yıl         0\n",
       "Yakıt Turu        0\n",
       "Vites             0\n",
       "CCM               0\n",
       "Beygir Gucu       0\n",
       "Kasa Tipi         0\n",
       "Durum             0\n",
       "Km                0\n",
       "Fiyat             0\n",
       "dtype: int64"
      ]
     },
     "execution_count": 6,
     "metadata": {},
     "output_type": "execute_result"
    }
   ],
   "source": [
    "df1.isnull().sum()"
   ]
  },
  {
   "cell_type": "markdown",
   "id": "e451a2c5",
   "metadata": {},
   "source": [
    "Well I have not null values in my indexes, so I can check my columns if I have outlier or noisy value. Let's begin with *Marka* column."
   ]
  },
  {
   "cell_type": "code",
   "execution_count": 7,
   "id": "1b2fe291",
   "metadata": {},
   "outputs": [
    {
     "data": {
      "text/plain": [
       "Renault       2079\n",
       "Fiat           654\n",
       "Opel           647\n",
       "Hyundai        639\n",
       "BMW            616\n",
       "Mercedes       613\n",
       "Ford           602\n",
       "Audi           430\n",
       "Peugeot        421\n",
       "Dacia          323\n",
       "Honda          263\n",
       "Skoda          259\n",
       "Nissan         229\n",
       "Citroen        199\n",
       "Land Rover     182\n",
       "Kia            166\n",
       "Seat           151\n",
       "Chevrolet      127\n",
       "Jeep            91\n",
       "Porsche         56\n",
       "Tofaş           45\n",
       "Acura           42\n",
       "Mitsubishi      32\n",
       "Mini            31\n",
       "Jaguar          30\n",
       "Mazda           24\n",
       "Volkswagen      18\n",
       "Alfa Romeo      17\n",
       "Lada            16\n",
       "Chrysler        13\n",
       "Infiniti        10\n",
       "Isuzu            9\n",
       "Rover            4\n",
       "Maserati         3\n",
       "Geely            2\n",
       "Chery            1\n",
       "Name: Marka, dtype: int64"
      ]
     },
     "execution_count": 7,
     "metadata": {},
     "output_type": "execute_result"
    }
   ],
   "source": [
    "df1.Marka.value_counts()"
   ]
  },
  {
   "cell_type": "code",
   "execution_count": 8,
   "id": "1e2c6a39",
   "metadata": {},
   "outputs": [
    {
     "data": {
      "text/plain": [
       "Arac Tip Grubu\n",
       "1 Serisi      47\n",
       "100 Serisi     2\n",
       "106            6\n",
       "11             9\n",
       "1100           1\n",
       "              ..\n",
       "Z Serisi       4\n",
       "Zafira         1\n",
       "i20 Active     4\n",
       "i20 Troy       6\n",
       "Şahin         20\n",
       "Name: Arac Tip Grubu, Length: 387, dtype: int64"
      ]
     },
     "execution_count": 8,
     "metadata": {},
     "output_type": "execute_result"
    }
   ],
   "source": [
    "df1.groupby(\"Arac Tip Grubu\")[\"Arac Tip Grubu\"].agg(\"count\")"
   ]
  },
  {
   "cell_type": "code",
   "execution_count": 9,
   "id": "a69b8216",
   "metadata": {},
   "outputs": [
    {
     "data": {
      "text/plain": [
       "Arac Tip\n",
       "-                         55\n",
       "0.9\\n                      1\n",
       "0.9 Icon                   1\n",
       "0.9 TCe Stepway            2\n",
       "0.9 TCe Stepway Easy-R     3\n",
       "                          ..\n",
       "Z4 2.2                     1\n",
       "Z4 2.5                     1\n",
       "Z4 3.0i sDrive             1\n",
       "ll 2.0 Si4 SE              2\n",
       "Şahin 5 vites              7\n",
       "Name: Arac Tip, Length: 1759, dtype: int64"
      ]
     },
     "execution_count": 9,
     "metadata": {},
     "output_type": "execute_result"
    }
   ],
   "source": [
    "df1.groupby(\"Arac Tip\")[\"Arac Tip\"].agg(\"count\")"
   ]
  },
  {
   "cell_type": "markdown",
   "id": "d8b352b7",
   "metadata": {},
   "source": [
    "Okay, as you see in my **Arac Tip** column, we have 55 '-' value. 55 values is not too much when we compare with whole dataset values that is why I can drop that rows."
   ]
  },
  {
   "cell_type": "code",
   "execution_count": 10,
   "id": "54722bce",
   "metadata": {},
   "outputs": [],
   "source": [
    "Arac_Tip_drop=df1[df1['Arac Tip']=='-'].index\n",
    "df1.drop(Arac_Tip_drop,axis=0,inplace=True)"
   ]
  },
  {
   "cell_type": "code",
   "execution_count": 11,
   "id": "5e8afceb",
   "metadata": {},
   "outputs": [
    {
     "data": {
      "text/plain": [
       "Model Yıl\n",
       "1959.0       2\n",
       "1961.0       2\n",
       "1976.0       3\n",
       "1977.0       1\n",
       "1978.0       2\n",
       "1979.0       4\n",
       "1981.0       3\n",
       "1982.0       2\n",
       "1983.0       4\n",
       "1984.0       6\n",
       "1985.0       7\n",
       "1986.0       6\n",
       "1987.0       3\n",
       "1988.0      13\n",
       "1989.0       4\n",
       "1990.0      23\n",
       "1991.0      27\n",
       "1992.0      29\n",
       "1993.0      44\n",
       "1994.0      65\n",
       "1995.0      41\n",
       "1996.0      52\n",
       "1997.0      72\n",
       "1998.0     101\n",
       "1999.0      76\n",
       "2000.0     168\n",
       "2001.0     102\n",
       "2002.0      45\n",
       "2003.0      89\n",
       "2004.0     180\n",
       "2005.0     177\n",
       "2006.0     228\n",
       "2007.0     150\n",
       "2008.0     232\n",
       "2009.0     256\n",
       "2010.0     208\n",
       "2011.0     710\n",
       "2012.0     768\n",
       "2013.0     463\n",
       "2014.0     538\n",
       "2015.0     818\n",
       "2016.0     952\n",
       "2017.0    1297\n",
       "2018.0     603\n",
       "2019.0     216\n",
       "2020.0     197\n",
       "Name: Model Yıl, dtype: int64"
      ]
     },
     "execution_count": 11,
     "metadata": {},
     "output_type": "execute_result"
    }
   ],
   "source": [
    "df1.groupby(\"Model Yıl\")[\"Model Yıl\"].agg(\"count\")"
   ]
  },
  {
   "cell_type": "code",
   "execution_count": 12,
   "id": "97cc65d1",
   "metadata": {},
   "outputs": [
    {
     "data": {
      "text/plain": [
       "Yakıt Turu\n",
       "Benzin        1438\n",
       "Benzin/LPG    1674\n",
       "Dizel         5847\n",
       "Elektrik         4\n",
       "Hibrit          26\n",
       "Name: Yakıt Turu, dtype: int64"
      ]
     },
     "execution_count": 12,
     "metadata": {},
     "output_type": "execute_result"
    }
   ],
   "source": [
    "df1.groupby(\"Yakıt Turu\")[\"Yakıt Turu\"].agg(\"count\")"
   ]
  },
  {
   "cell_type": "code",
   "execution_count": 13,
   "id": "fd9d47c1",
   "metadata": {},
   "outputs": [
    {
     "data": {
      "text/plain": [
       "Vites\n",
       "Düz Vites              4463\n",
       "Otomatik Vites         2430\n",
       "Yarı Otomatik Vites    2096\n",
       "Name: Vites, dtype: int64"
      ]
     },
     "execution_count": 13,
     "metadata": {},
     "output_type": "execute_result"
    }
   ],
   "source": [
    "df1.groupby(\"Vites\")[\"Vites\"].agg(\"count\")"
   ]
  },
  {
   "cell_type": "code",
   "execution_count": 14,
   "id": "963315f5",
   "metadata": {},
   "outputs": [
    {
     "data": {
      "text/plain": [
       "CCM\n",
       "-                      1\n",
       "1300 cc ve altı     1073\n",
       "1301-1600 cc        5918\n",
       "1601-1800 cc         412\n",
       "1801-2000 cc         807\n",
       "2001-2500 cc         208\n",
       "2501-3000 cc         328\n",
       "3001-3500 cc          35\n",
       "3501-4000 cc          64\n",
       "4001-4500 cc          16\n",
       "4501-5000 cc           8\n",
       "5001-5500 cc           9\n",
       "5501-6000 cc           2\n",
       "6001 cc ve üzeri       2\n",
       "Bilmiyorum           106\n",
       "Name: CCM, dtype: int64"
      ]
     },
     "execution_count": 14,
     "metadata": {},
     "output_type": "execute_result"
    }
   ],
   "source": [
    "df1.groupby(\"CCM\")[\"CCM\"].agg(\"count\")"
   ]
  },
  {
   "cell_type": "markdown",
   "id": "e77542b8",
   "metadata": {},
   "source": [
    "Let's see **CCM** column, at this column I have a '-' value and 106 'Bilmiyorum' value that labels could be problem in my training model in the future so I can drop them as well."
   ]
  },
  {
   "cell_type": "code",
   "execution_count": 15,
   "id": "5104670b",
   "metadata": {},
   "outputs": [],
   "source": [
    "CCM_drop=df1[df1['CCM']=='Bilmiyorum'].index\n",
    "df1.drop(CCM_drop,axis=0,inplace=True)"
   ]
  },
  {
   "cell_type": "code",
   "execution_count": 16,
   "id": "db8e3424",
   "metadata": {},
   "outputs": [],
   "source": [
    "CCM_drop=df1[df1['CCM']=='-'].index\n",
    "df1.drop(CCM_drop,axis=0,inplace=True)"
   ]
  },
  {
   "cell_type": "code",
   "execution_count": 17,
   "id": "73e2ffc5",
   "metadata": {},
   "outputs": [
    {
     "data": {
      "text/plain": [
       "Beygir Gucu\n",
       "100 BG ve altı      417\n",
       "101-125 BG          972\n",
       "126-150 BG          450\n",
       "151-175 BG          124\n",
       "176-200 BG          142\n",
       "201-225 BG           42\n",
       "226-250 BG           29\n",
       "251-275 BG           43\n",
       "276-300 BG           26\n",
       "301-325 BG            6\n",
       "326-350 BG            4\n",
       "376-400 BG            1\n",
       "451-475 BG            1\n",
       "50 BG ve altı        11\n",
       "51-75 BG            329\n",
       "601 BG ve üzeri       1\n",
       "76-100 BG           802\n",
       "Bilmiyorum         5482\n",
       "Name: Beygir Gucu, dtype: int64"
      ]
     },
     "execution_count": 17,
     "metadata": {},
     "output_type": "execute_result"
    }
   ],
   "source": [
    "df1.groupby(\"Beygir Gucu\")[\"Beygir Gucu\"].agg(\"count\")"
   ]
  },
  {
   "cell_type": "markdown",
   "id": "6251a4a2",
   "metadata": {},
   "source": [
    "In the **Beygir Gucu** column everything looks good except 5482 'Bilmiyorum' values, my data frame's shape approximately 8900 and when we compare 5482 values with whole dataset shapes, it is a huge piece of my dataset for this reason I mustn't delete that rows. Later I can label encode that values and train like that."
   ]
  },
  {
   "cell_type": "code",
   "execution_count": 18,
   "id": "04291cbc",
   "metadata": {},
   "outputs": [
    {
     "data": {
      "text/plain": [
       "Kasa Tipi\n",
       "Arazi Aracı              1216\n",
       "Camlı Van                 149\n",
       "Crossover                  24\n",
       "Diğer                      91\n",
       "Hatchback 3 Kapı           79\n",
       "Hatchback 5 Kapı         2268\n",
       "MPV                        88\n",
       "Minivan                     9\n",
       "Roadster                   10\n",
       "Sedan                    4534\n",
       "Spor / Coupe              146\n",
       "Station Wagon             240\n",
       "Üstü Açık / Cabriolet      28\n",
       "Name: Kasa Tipi, dtype: int64"
      ]
     },
     "execution_count": 18,
     "metadata": {},
     "output_type": "execute_result"
    }
   ],
   "source": [
    "df1.groupby(\"Kasa Tipi\")[\"Kasa Tipi\"].agg(\"count\")"
   ]
  },
  {
   "cell_type": "code",
   "execution_count": 19,
   "id": "42edad0f",
   "metadata": {},
   "outputs": [
    {
     "data": {
      "text/plain": [
       "Durum\n",
       "0 km        235\n",
       "2. El      8599\n",
       "Hasarlı      39\n",
       "Klasik        9\n",
       "Name: Durum, dtype: int64"
      ]
     },
     "execution_count": 19,
     "metadata": {},
     "output_type": "execute_result"
    }
   ],
   "source": [
    "df1.groupby(\"Durum\")[\"Durum\"].agg(\"count\")"
   ]
  },
  {
   "cell_type": "markdown",
   "id": "69cff178",
   "metadata": {},
   "source": [
    "In the **Durum** column I have 2 types of dump values. One of them is *'Hasarlı'* and the other one is *'Klasik'*, sum of that columns are 48 therefore I can remove them from my dataset."
   ]
  },
  {
   "cell_type": "code",
   "execution_count": 20,
   "id": "f08f4f23",
   "metadata": {},
   "outputs": [],
   "source": [
    "Durum_drop = df1[df1['Durum'] == 'Klasik'].index\n",
    "df1.drop(Durum_drop,axis = 0,inplace=True)"
   ]
  },
  {
   "cell_type": "code",
   "execution_count": 21,
   "id": "88c8b946",
   "metadata": {},
   "outputs": [],
   "source": [
    "Durum_drop = df1[df1['Durum'] == 'Hasarlı'].index\n",
    "df1.drop(Durum_drop,axis = 0,inplace=True)"
   ]
  },
  {
   "cell_type": "code",
   "execution_count": 22,
   "id": "8473201a",
   "metadata": {},
   "outputs": [
    {
     "data": {
      "text/plain": [
       "(8834, 12)"
      ]
     },
     "execution_count": 22,
     "metadata": {},
     "output_type": "execute_result"
    }
   ],
   "source": [
    "df1.shape"
   ]
  },
  {
   "cell_type": "markdown",
   "id": "63e94b09",
   "metadata": {},
   "source": [
    "Okay, feature cleaning is over now, let's calculate outlier values in target values which is **Fiyat**"
   ]
  },
  {
   "cell_type": "code",
   "execution_count": 23,
   "id": "88009f43",
   "metadata": {},
   "outputs": [],
   "source": [
    "q1 = df1.Fiyat.quantile(0.25)\n",
    "q3 = df1.Fiyat.quantile(0.75)"
   ]
  },
  {
   "cell_type": "code",
   "execution_count": 24,
   "id": "02ee63f6",
   "metadata": {},
   "outputs": [],
   "source": [
    "IQC = q3 - q1\n",
    "\n",
    "boundary1 = q1 - 1.5*IQC\n",
    "boundary2 = q3 + 1.5*IQC\n",
    "\n",
    "outlier = (df1.Fiyat < boundary1) | (df1.Fiyat > boundary2)\n",
    "outlier_value = df1[outlier]\n",
    "outl = outlier_value.index"
   ]
  },
  {
   "cell_type": "code",
   "execution_count": 25,
   "id": "ba287b5c",
   "metadata": {},
   "outputs": [],
   "source": [
    "df1.drop(outl,axis = 0,inplace=True)"
   ]
  },
  {
   "cell_type": "code",
   "execution_count": 26,
   "id": "89357b0e",
   "metadata": {},
   "outputs": [
    {
     "name": "stdout",
     "output_type": "stream",
     "text": [
      "Max Value:  295000\n",
      "Min Value:  9500\n"
     ]
    }
   ],
   "source": [
    "print(\"Max Value: \",df1.Fiyat.max())\n",
    "print(\"Min Value: \",df1.Fiyat.min())"
   ]
  },
  {
   "cell_type": "markdown",
   "id": "220cd954",
   "metadata": {},
   "source": [
    "At the end of cleaning phase, my dataframe is like that"
   ]
  },
  {
   "cell_type": "code",
   "execution_count": 27,
   "id": "01a27956",
   "metadata": {},
   "outputs": [
    {
     "data": {
      "text/html": [
       "<div>\n",
       "<style scoped>\n",
       "    .dataframe tbody tr th:only-of-type {\n",
       "        vertical-align: middle;\n",
       "    }\n",
       "\n",
       "    .dataframe tbody tr th {\n",
       "        vertical-align: top;\n",
       "    }\n",
       "\n",
       "    .dataframe thead th {\n",
       "        text-align: right;\n",
       "    }\n",
       "</style>\n",
       "<table border=\"1\" class=\"dataframe\">\n",
       "  <thead>\n",
       "    <tr style=\"text-align: right;\">\n",
       "      <th></th>\n",
       "      <th>Marka</th>\n",
       "      <th>Arac Tip Grubu</th>\n",
       "      <th>Arac Tip</th>\n",
       "      <th>Model Yıl</th>\n",
       "      <th>Yakıt Turu</th>\n",
       "      <th>Vites</th>\n",
       "      <th>CCM</th>\n",
       "      <th>Beygir Gucu</th>\n",
       "      <th>Kasa Tipi</th>\n",
       "      <th>Durum</th>\n",
       "      <th>Km</th>\n",
       "      <th>Fiyat</th>\n",
       "    </tr>\n",
       "  </thead>\n",
       "  <tbody>\n",
       "    <tr>\n",
       "      <th>2</th>\n",
       "      <td>Acura</td>\n",
       "      <td>CL</td>\n",
       "      <td>2.2</td>\n",
       "      <td>1994.0</td>\n",
       "      <td>Benzin/LPG</td>\n",
       "      <td>Düz Vites</td>\n",
       "      <td>1301-1600 cc</td>\n",
       "      <td>101-125 BG</td>\n",
       "      <td>Sedan</td>\n",
       "      <td>2. El</td>\n",
       "      <td>175000</td>\n",
       "      <td>19750</td>\n",
       "    </tr>\n",
       "    <tr>\n",
       "      <th>4</th>\n",
       "      <td>Acura</td>\n",
       "      <td>CL</td>\n",
       "      <td>2.2</td>\n",
       "      <td>2010.0</td>\n",
       "      <td>Dizel</td>\n",
       "      <td>Otomatik Vites</td>\n",
       "      <td>1801-2000 cc</td>\n",
       "      <td>151-175 BG</td>\n",
       "      <td>Sedan</td>\n",
       "      <td>2. El</td>\n",
       "      <td>207000</td>\n",
       "      <td>148750</td>\n",
       "    </tr>\n",
       "    <tr>\n",
       "      <th>5</th>\n",
       "      <td>Acura</td>\n",
       "      <td>CL</td>\n",
       "      <td>2.2</td>\n",
       "      <td>1999.0</td>\n",
       "      <td>Dizel</td>\n",
       "      <td>Düz Vites</td>\n",
       "      <td>1801-2000 cc</td>\n",
       "      <td>101-125 BG</td>\n",
       "      <td>Roadster</td>\n",
       "      <td>2. El</td>\n",
       "      <td>320000</td>\n",
       "      <td>42500</td>\n",
       "    </tr>\n",
       "    <tr>\n",
       "      <th>6</th>\n",
       "      <td>Acura</td>\n",
       "      <td>CL</td>\n",
       "      <td>2.2</td>\n",
       "      <td>2014.0</td>\n",
       "      <td>Dizel</td>\n",
       "      <td>Otomatik Vites</td>\n",
       "      <td>1301-1600 cc</td>\n",
       "      <td>101-125 BG</td>\n",
       "      <td>Sedan</td>\n",
       "      <td>2. El</td>\n",
       "      <td>183</td>\n",
       "      <td>170000</td>\n",
       "    </tr>\n",
       "    <tr>\n",
       "      <th>8</th>\n",
       "      <td>Acura</td>\n",
       "      <td>RSX</td>\n",
       "      <td>Type-S</td>\n",
       "      <td>2019.0</td>\n",
       "      <td>Hibrit</td>\n",
       "      <td>Otomatik Vites</td>\n",
       "      <td>1601-1800 cc</td>\n",
       "      <td>100 BG ve altı</td>\n",
       "      <td>Sedan</td>\n",
       "      <td>0 km</td>\n",
       "      <td>15662</td>\n",
       "      <td>189000</td>\n",
       "    </tr>\n",
       "    <tr>\n",
       "      <th>...</th>\n",
       "      <td>...</td>\n",
       "      <td>...</td>\n",
       "      <td>...</td>\n",
       "      <td>...</td>\n",
       "      <td>...</td>\n",
       "      <td>...</td>\n",
       "      <td>...</td>\n",
       "      <td>...</td>\n",
       "      <td>...</td>\n",
       "      <td>...</td>\n",
       "      <td>...</td>\n",
       "      <td>...</td>\n",
       "    </tr>\n",
       "    <tr>\n",
       "      <th>9039</th>\n",
       "      <td>Tofaş</td>\n",
       "      <td>Şahin</td>\n",
       "      <td>1.6</td>\n",
       "      <td>1994.0</td>\n",
       "      <td>Benzin/LPG</td>\n",
       "      <td>Düz Vites</td>\n",
       "      <td>1301-1600 cc</td>\n",
       "      <td>51-75 BG</td>\n",
       "      <td>Sedan</td>\n",
       "      <td>2. El</td>\n",
       "      <td>121212</td>\n",
       "      <td>12250</td>\n",
       "    </tr>\n",
       "    <tr>\n",
       "      <th>9040</th>\n",
       "      <td>Tofaş</td>\n",
       "      <td>Şahin</td>\n",
       "      <td>Şahin 5 vites</td>\n",
       "      <td>1992.0</td>\n",
       "      <td>Benzin/LPG</td>\n",
       "      <td>Düz Vites</td>\n",
       "      <td>1301-1600 cc</td>\n",
       "      <td>76-100 BG</td>\n",
       "      <td>Sedan</td>\n",
       "      <td>2. El</td>\n",
       "      <td>54000</td>\n",
       "      <td>16300</td>\n",
       "    </tr>\n",
       "    <tr>\n",
       "      <th>9041</th>\n",
       "      <td>Tofaş</td>\n",
       "      <td>Doğan</td>\n",
       "      <td>SLX</td>\n",
       "      <td>1993.0</td>\n",
       "      <td>Benzin/LPG</td>\n",
       "      <td>Düz Vites</td>\n",
       "      <td>1301-1600 cc</td>\n",
       "      <td>76-100 BG</td>\n",
       "      <td>Sedan</td>\n",
       "      <td>2. El</td>\n",
       "      <td>135000</td>\n",
       "      <td>19000</td>\n",
       "    </tr>\n",
       "    <tr>\n",
       "      <th>9042</th>\n",
       "      <td>Tofaş</td>\n",
       "      <td>Kartal</td>\n",
       "      <td>Kartal 5 Vites</td>\n",
       "      <td>1991.0</td>\n",
       "      <td>Benzin/LPG</td>\n",
       "      <td>Düz Vites</td>\n",
       "      <td>1601-1800 cc</td>\n",
       "      <td>76-100 BG</td>\n",
       "      <td>Hatchback 5 Kapı</td>\n",
       "      <td>2. El</td>\n",
       "      <td>250000</td>\n",
       "      <td>11000</td>\n",
       "    </tr>\n",
       "    <tr>\n",
       "      <th>9043</th>\n",
       "      <td>Tofaş</td>\n",
       "      <td>Kartal</td>\n",
       "      <td>Kartal 5 Vites</td>\n",
       "      <td>1996.0</td>\n",
       "      <td>Benzin/LPG</td>\n",
       "      <td>Düz Vites</td>\n",
       "      <td>1301-1600 cc</td>\n",
       "      <td>51-75 BG</td>\n",
       "      <td>Sedan</td>\n",
       "      <td>2. El</td>\n",
       "      <td>11</td>\n",
       "      <td>15750</td>\n",
       "    </tr>\n",
       "  </tbody>\n",
       "</table>\n",
       "<p>8090 rows × 12 columns</p>\n",
       "</div>"
      ],
      "text/plain": [
       "      Marka Arac Tip Grubu        Arac Tip  Model Yıl  Yakıt Turu  \\\n",
       "2     Acura             CL             2.2     1994.0  Benzin/LPG   \n",
       "4     Acura             CL             2.2     2010.0       Dizel   \n",
       "5     Acura             CL             2.2     1999.0       Dizel   \n",
       "6     Acura             CL             2.2     2014.0       Dizel   \n",
       "8     Acura            RSX          Type-S     2019.0      Hibrit   \n",
       "...     ...            ...             ...        ...         ...   \n",
       "9039  Tofaş          Şahin             1.6     1994.0  Benzin/LPG   \n",
       "9040  Tofaş          Şahin   Şahin 5 vites     1992.0  Benzin/LPG   \n",
       "9041  Tofaş          Doğan             SLX     1993.0  Benzin/LPG   \n",
       "9042  Tofaş         Kartal  Kartal 5 Vites     1991.0  Benzin/LPG   \n",
       "9043  Tofaş         Kartal  Kartal 5 Vites     1996.0  Benzin/LPG   \n",
       "\n",
       "               Vites           CCM     Beygir Gucu         Kasa Tipi  Durum  \\\n",
       "2          Düz Vites  1301-1600 cc      101-125 BG             Sedan  2. El   \n",
       "4     Otomatik Vites  1801-2000 cc      151-175 BG             Sedan  2. El   \n",
       "5          Düz Vites  1801-2000 cc      101-125 BG          Roadster  2. El   \n",
       "6     Otomatik Vites  1301-1600 cc      101-125 BG             Sedan  2. El   \n",
       "8     Otomatik Vites  1601-1800 cc  100 BG ve altı             Sedan   0 km   \n",
       "...              ...           ...             ...               ...    ...   \n",
       "9039       Düz Vites  1301-1600 cc        51-75 BG             Sedan  2. El   \n",
       "9040       Düz Vites  1301-1600 cc       76-100 BG             Sedan  2. El   \n",
       "9041       Düz Vites  1301-1600 cc       76-100 BG             Sedan  2. El   \n",
       "9042       Düz Vites  1601-1800 cc       76-100 BG  Hatchback 5 Kapı  2. El   \n",
       "9043       Düz Vites  1301-1600 cc        51-75 BG             Sedan  2. El   \n",
       "\n",
       "          Km   Fiyat  \n",
       "2     175000   19750  \n",
       "4     207000  148750  \n",
       "5     320000   42500  \n",
       "6        183  170000  \n",
       "8      15662  189000  \n",
       "...      ...     ...  \n",
       "9039  121212   12250  \n",
       "9040   54000   16300  \n",
       "9041  135000   19000  \n",
       "9042  250000   11000  \n",
       "9043      11   15750  \n",
       "\n",
       "[8090 rows x 12 columns]"
      ]
     },
     "execution_count": 27,
     "metadata": {},
     "output_type": "execute_result"
    }
   ],
   "source": [
    "df1"
   ]
  },
  {
   "cell_type": "markdown",
   "id": "a39b5cf9",
   "metadata": {},
   "source": [
    "# Data Encoding"
   ]
  },
  {
   "cell_type": "markdown",
   "id": "d4872bc5",
   "metadata": {},
   "source": [
    "Well, my data frame is looking good, now that is time to label encoding my datas. I will use scikit-learn library in this step."
   ]
  },
  {
   "cell_type": "code",
   "execution_count": 28,
   "id": "843a2343",
   "metadata": {},
   "outputs": [],
   "source": [
    "from sklearn.preprocessing import LabelEncoder\n",
    "\n",
    "le = LabelEncoder()\n",
    "\n",
    "df2 = df1.copy()\n",
    "\n",
    "car_columns = [\"Marka\",\"Arac Tip Grubu\",\"Arac Tip\",\"Yakıt Turu\",\"Vites\",\"CCM\",\"Beygir Gucu\",\"Kasa Tipi\",\"Durum\"]\n",
    "\n",
    "for i in car_columns:\n",
    "    df2[i] = le.fit_transform(df2[i])"
   ]
  },
  {
   "cell_type": "code",
   "execution_count": 29,
   "id": "12ef1d6e",
   "metadata": {},
   "outputs": [
    {
     "data": {
      "text/html": [
       "<div>\n",
       "<style scoped>\n",
       "    .dataframe tbody tr th:only-of-type {\n",
       "        vertical-align: middle;\n",
       "    }\n",
       "\n",
       "    .dataframe tbody tr th {\n",
       "        vertical-align: top;\n",
       "    }\n",
       "\n",
       "    .dataframe thead th {\n",
       "        text-align: right;\n",
       "    }\n",
       "</style>\n",
       "<table border=\"1\" class=\"dataframe\">\n",
       "  <thead>\n",
       "    <tr style=\"text-align: right;\">\n",
       "      <th></th>\n",
       "      <th>Marka</th>\n",
       "      <th>Arac Tip Grubu</th>\n",
       "      <th>Arac Tip</th>\n",
       "      <th>Model Yıl</th>\n",
       "      <th>Yakıt Turu</th>\n",
       "      <th>Vites</th>\n",
       "      <th>CCM</th>\n",
       "      <th>Beygir Gucu</th>\n",
       "      <th>Kasa Tipi</th>\n",
       "      <th>Durum</th>\n",
       "      <th>Km</th>\n",
       "      <th>Fiyat</th>\n",
       "    </tr>\n",
       "  </thead>\n",
       "  <tbody>\n",
       "    <tr>\n",
       "      <th>2</th>\n",
       "      <td>0</td>\n",
       "      <td>116</td>\n",
       "      <td>1127</td>\n",
       "      <td>1994.0</td>\n",
       "      <td>1</td>\n",
       "      <td>0</td>\n",
       "      <td>1</td>\n",
       "      <td>1</td>\n",
       "      <td>9</td>\n",
       "      <td>1</td>\n",
       "      <td>175000</td>\n",
       "      <td>19750</td>\n",
       "    </tr>\n",
       "    <tr>\n",
       "      <th>4</th>\n",
       "      <td>0</td>\n",
       "      <td>116</td>\n",
       "      <td>1127</td>\n",
       "      <td>2010.0</td>\n",
       "      <td>2</td>\n",
       "      <td>1</td>\n",
       "      <td>3</td>\n",
       "      <td>3</td>\n",
       "      <td>9</td>\n",
       "      <td>1</td>\n",
       "      <td>207000</td>\n",
       "      <td>148750</td>\n",
       "    </tr>\n",
       "    <tr>\n",
       "      <th>5</th>\n",
       "      <td>0</td>\n",
       "      <td>116</td>\n",
       "      <td>1127</td>\n",
       "      <td>1999.0</td>\n",
       "      <td>2</td>\n",
       "      <td>0</td>\n",
       "      <td>3</td>\n",
       "      <td>1</td>\n",
       "      <td>8</td>\n",
       "      <td>1</td>\n",
       "      <td>320000</td>\n",
       "      <td>42500</td>\n",
       "    </tr>\n",
       "    <tr>\n",
       "      <th>6</th>\n",
       "      <td>0</td>\n",
       "      <td>116</td>\n",
       "      <td>1127</td>\n",
       "      <td>2014.0</td>\n",
       "      <td>2</td>\n",
       "      <td>1</td>\n",
       "      <td>1</td>\n",
       "      <td>1</td>\n",
       "      <td>9</td>\n",
       "      <td>1</td>\n",
       "      <td>183</td>\n",
       "      <td>170000</td>\n",
       "    </tr>\n",
       "    <tr>\n",
       "      <th>8</th>\n",
       "      <td>0</td>\n",
       "      <td>275</td>\n",
       "      <td>1564</td>\n",
       "      <td>2019.0</td>\n",
       "      <td>3</td>\n",
       "      <td>1</td>\n",
       "      <td>2</td>\n",
       "      <td>0</td>\n",
       "      <td>9</td>\n",
       "      <td>0</td>\n",
       "      <td>15662</td>\n",
       "      <td>189000</td>\n",
       "    </tr>\n",
       "    <tr>\n",
       "      <th>...</th>\n",
       "      <td>...</td>\n",
       "      <td>...</td>\n",
       "      <td>...</td>\n",
       "      <td>...</td>\n",
       "      <td>...</td>\n",
       "      <td>...</td>\n",
       "      <td>...</td>\n",
       "      <td>...</td>\n",
       "      <td>...</td>\n",
       "      <td>...</td>\n",
       "      <td>...</td>\n",
       "      <td>...</td>\n",
       "    </tr>\n",
       "    <tr>\n",
       "      <th>9039</th>\n",
       "      <td>33</td>\n",
       "      <td>343</td>\n",
       "      <td>531</td>\n",
       "      <td>1994.0</td>\n",
       "      <td>1</td>\n",
       "      <td>0</td>\n",
       "      <td>1</td>\n",
       "      <td>14</td>\n",
       "      <td>9</td>\n",
       "      <td>1</td>\n",
       "      <td>121212</td>\n",
       "      <td>12250</td>\n",
       "    </tr>\n",
       "    <tr>\n",
       "      <th>9040</th>\n",
       "      <td>33</td>\n",
       "      <td>343</td>\n",
       "      <td>1571</td>\n",
       "      <td>1992.0</td>\n",
       "      <td>1</td>\n",
       "      <td>0</td>\n",
       "      <td>1</td>\n",
       "      <td>16</td>\n",
       "      <td>9</td>\n",
       "      <td>1</td>\n",
       "      <td>54000</td>\n",
       "      <td>16300</td>\n",
       "    </tr>\n",
       "    <tr>\n",
       "      <th>9041</th>\n",
       "      <td>33</td>\n",
       "      <td>153</td>\n",
       "      <td>1547</td>\n",
       "      <td>1993.0</td>\n",
       "      <td>1</td>\n",
       "      <td>0</td>\n",
       "      <td>1</td>\n",
       "      <td>16</td>\n",
       "      <td>9</td>\n",
       "      <td>1</td>\n",
       "      <td>135000</td>\n",
       "      <td>19000</td>\n",
       "    </tr>\n",
       "    <tr>\n",
       "      <th>9042</th>\n",
       "      <td>33</td>\n",
       "      <td>210</td>\n",
       "      <td>1529</td>\n",
       "      <td>1991.0</td>\n",
       "      <td>1</td>\n",
       "      <td>0</td>\n",
       "      <td>2</td>\n",
       "      <td>16</td>\n",
       "      <td>5</td>\n",
       "      <td>1</td>\n",
       "      <td>250000</td>\n",
       "      <td>11000</td>\n",
       "    </tr>\n",
       "    <tr>\n",
       "      <th>9043</th>\n",
       "      <td>33</td>\n",
       "      <td>210</td>\n",
       "      <td>1529</td>\n",
       "      <td>1996.0</td>\n",
       "      <td>1</td>\n",
       "      <td>0</td>\n",
       "      <td>1</td>\n",
       "      <td>14</td>\n",
       "      <td>9</td>\n",
       "      <td>1</td>\n",
       "      <td>11</td>\n",
       "      <td>15750</td>\n",
       "    </tr>\n",
       "  </tbody>\n",
       "</table>\n",
       "<p>8090 rows × 12 columns</p>\n",
       "</div>"
      ],
      "text/plain": [
       "      Marka  Arac Tip Grubu  Arac Tip  Model Yıl  Yakıt Turu  Vites  CCM  \\\n",
       "2         0             116      1127     1994.0           1      0    1   \n",
       "4         0             116      1127     2010.0           2      1    3   \n",
       "5         0             116      1127     1999.0           2      0    3   \n",
       "6         0             116      1127     2014.0           2      1    1   \n",
       "8         0             275      1564     2019.0           3      1    2   \n",
       "...     ...             ...       ...        ...         ...    ...  ...   \n",
       "9039     33             343       531     1994.0           1      0    1   \n",
       "9040     33             343      1571     1992.0           1      0    1   \n",
       "9041     33             153      1547     1993.0           1      0    1   \n",
       "9042     33             210      1529     1991.0           1      0    2   \n",
       "9043     33             210      1529     1996.0           1      0    1   \n",
       "\n",
       "      Beygir Gucu  Kasa Tipi  Durum      Km   Fiyat  \n",
       "2               1          9      1  175000   19750  \n",
       "4               3          9      1  207000  148750  \n",
       "5               1          8      1  320000   42500  \n",
       "6               1          9      1     183  170000  \n",
       "8               0          9      0   15662  189000  \n",
       "...           ...        ...    ...     ...     ...  \n",
       "9039           14          9      1  121212   12250  \n",
       "9040           16          9      1   54000   16300  \n",
       "9041           16          9      1  135000   19000  \n",
       "9042           16          5      1  250000   11000  \n",
       "9043           14          9      1      11   15750  \n",
       "\n",
       "[8090 rows x 12 columns]"
      ]
     },
     "execution_count": 29,
     "metadata": {},
     "output_type": "execute_result"
    }
   ],
   "source": [
    "df2"
   ]
  },
  {
   "cell_type": "code",
   "execution_count": 30,
   "id": "2389055c",
   "metadata": {},
   "outputs": [
    {
     "data": {
      "text/plain": [
       "Marka               int32\n",
       "Arac Tip Grubu      int32\n",
       "Arac Tip            int32\n",
       "Model Yıl         float64\n",
       "Yakıt Turu          int32\n",
       "Vites               int32\n",
       "CCM                 int32\n",
       "Beygir Gucu         int32\n",
       "Kasa Tipi           int32\n",
       "Durum               int32\n",
       "Km                  int64\n",
       "Fiyat               int64\n",
       "dtype: object"
      ]
     },
     "execution_count": 30,
     "metadata": {},
     "output_type": "execute_result"
    }
   ],
   "source": [
    "df2.dtypes"
   ]
  },
  {
   "cell_type": "markdown",
   "id": "03515813",
   "metadata": {},
   "source": [
    "Perfect!!! My data frame's every datas are numeric, so we can train it but before the training phase I wanna see correlation between my columns."
   ]
  },
  {
   "cell_type": "code",
   "execution_count": 31,
   "id": "3d0c9b69",
   "metadata": {},
   "outputs": [
    {
     "data": {
      "text/plain": [
       "<AxesSubplot:>"
      ]
     },
     "execution_count": 31,
     "metadata": {},
     "output_type": "execute_result"
    },
    {
     "data": {
      "image/png": "[encoded data removed]",
      "text/plain": [
       "<Figure size 1080x576 with 2 Axes>"
      ]
     },
     "metadata": {
      "needs_background": "light"
     },
     "output_type": "display_data"
    }
   ],
   "source": [
    "import seaborn as sbn\n",
    "\n",
    "plt.figure(figsize=(15,8))\n",
    "sbn.heatmap(df2.corr(),annot = True)"
   ]
  },
  {
   "cell_type": "markdown",
   "id": "5039ff87",
   "metadata": {},
   "source": [
    "# Training and Testing Datas"
   ]
  },
  {
   "cell_type": "markdown",
   "id": "6de31eb7",
   "metadata": {},
   "source": [
    "I finished the cleaning and encoding steps, now I can split my datas as X and y, X would be features and y would be target values."
   ]
  },
  {
   "cell_type": "code",
   "execution_count": 32,
   "id": "5165fe76",
   "metadata": {},
   "outputs": [],
   "source": [
    "from sklearn.model_selection import train_test_split\n",
    "\n",
    "X = df2.iloc[:,:-1].values\n",
    "y = df2.Fiyat.values\n",
    "\n",
    "X_train,X_test,y_train,y_test = train_test_split(X,y,test_size=0.25,random_state=42)"
   ]
  },
  {
   "cell_type": "markdown",
   "id": "6e75b274",
   "metadata": {},
   "source": [
    "## Linear Regression"
   ]
  },
  {
   "cell_type": "markdown",
   "id": "cb6d115f",
   "metadata": {},
   "source": [
    "First Machine Learning algorithm is Linear Regression, I will put the datas in that algorithm and let's see what model score will we have."
   ]
  },
  {
   "cell_type": "code",
   "execution_count": 33,
   "id": "c7fc9846",
   "metadata": {},
   "outputs": [
    {
     "name": "stdout",
     "output_type": "stream",
     "text": [
      "Linear Regression Score: 0.6473572219452274\n"
     ]
    }
   ],
   "source": [
    "from sklearn.linear_model import LinearRegression\n",
    "\n",
    "lr = LinearRegression()\n",
    "\n",
    "lr.fit(X_train,y_train)\n",
    "\n",
    "lr_predict = lr.predict(X_test)\n",
    "\n",
    "lr_score = lr.score(X_train,y_train)\n",
    "print(f\"Linear Regression Score: {lr_score}\")"
   ]
  },
  {
   "cell_type": "markdown",
   "id": "cc1f2fb3",
   "metadata": {},
   "source": [
    "## Decision Tree"
   ]
  },
  {
   "cell_type": "markdown",
   "id": "b263650f",
   "metadata": {},
   "source": [
    "The second machine learning algorithm is Decision Tree, I think, decision tree will be better than Linear Regression"
   ]
  },
  {
   "cell_type": "code",
   "execution_count": 34,
   "id": "f858e232",
   "metadata": {},
   "outputs": [
    {
     "name": "stdout",
     "output_type": "stream",
     "text": [
      "Decision Tree Regression Score: 0.9999155729977363\n"
     ]
    }
   ],
   "source": [
    "from sklearn.tree import DecisionTreeRegressor\n",
    "\n",
    "dtr = DecisionTreeRegressor()\n",
    "\n",
    "dtr.fit(X_train,y_train)\n",
    "\n",
    "dtr_predict = dtr.predict(X_test)\n",
    "\n",
    "dtr_score = dtr.score(X_train,y_train)\n",
    "print(f\"Decision Tree Regression Score: {dtr_score}\")"
   ]
  },
  {
   "cell_type": "markdown",
   "id": "d2c5f6aa",
   "metadata": {},
   "source": [
    "## K-Nearest Neighbors"
   ]
  },
  {
   "cell_type": "markdown",
   "id": "e66012c4",
   "metadata": {},
   "source": [
    "The third machine learning algorithm is KNeighborsRegressor. That algorithm is predicted by local interpolation of the targets associated of the nearest neighbors in the training set."
   ]
  },
  {
   "cell_type": "code",
   "execution_count": 35,
   "id": "9fdefd8f",
   "metadata": {},
   "outputs": [
    {
     "name": "stdout",
     "output_type": "stream",
     "text": [
      "K-Nearest Neighbors Regressor Score: 0.7029067579326074\n"
     ]
    }
   ],
   "source": [
    "from sklearn.neighbors import KNeighborsRegressor\n",
    "\n",
    "knn = KNeighborsRegressor(n_neighbors=3,metric=\"manhattan\")\n",
    "\n",
    "knn.fit(X_train,y_train)\n",
    "\n",
    "knn_predict = knn.predict(X_test)\n",
    "\n",
    "knn_score = knn.score(X_train,y_train)\n",
    "print(f\"K-Nearest Neighbors Regressor Score: {knn_score}\")"
   ]
  },
  {
   "cell_type": "markdown",
   "id": "4148327f",
   "metadata": {},
   "source": [
    "## Random Forest"
   ]
  },
  {
   "cell_type": "markdown",
   "id": "89b18804",
   "metadata": {},
   "source": [
    "The last regression algorihm is RandomForestRegressor. A random forest is a meta estimator that fits a number of classifying decision trees on various sub-samples of the dataset and uses averaging to improve the predictive accuracy and control over-fitting."
   ]
  },
  {
   "cell_type": "code",
   "execution_count": 36,
   "id": "439ba701",
   "metadata": {},
   "outputs": [
    {
     "name": "stdout",
     "output_type": "stream",
     "text": [
      "Random Forest Regressor Score: 0.9896496492159562\n"
     ]
    }
   ],
   "source": [
    "from sklearn.ensemble import RandomForestRegressor\n",
    "\n",
    "rfr = RandomForestRegressor(n_estimators=100,random_state=42)\n",
    "\n",
    "rfr.fit(X_train,y_train)\n",
    "\n",
    "rfr_predict = rfr.predict(X_test)\n",
    "\n",
    "rfr_score = rfr.score(X_train,y_train)\n",
    "print(f\"Random Forest Regressor Score: {rfr_score}\")"
   ]
  },
  {
   "cell_type": "markdown",
   "id": "4bb2c952",
   "metadata": {},
   "source": [
    "# Model Result and Visualizing"
   ]
  },
  {
   "cell_type": "markdown",
   "id": "63b7686c",
   "metadata": {},
   "source": [
    "I have 4 machine learning algorithms and at these algorithms, **Decision Tree Regressor** has the best score result so I can use that algorithm for predict."
   ]
  },
  {
   "cell_type": "code",
   "execution_count": 37,
   "id": "f9fc44d7",
   "metadata": {},
   "outputs": [],
   "source": [
    "dtr_predict = dtr_predict.astype(int)"
   ]
  },
  {
   "cell_type": "code",
   "execution_count": 38,
   "id": "92ca39c5",
   "metadata": {},
   "outputs": [],
   "source": [
    "list_of_df = list(zip(dtr_predict,y_test))"
   ]
  },
  {
   "cell_type": "code",
   "execution_count": 39,
   "id": "1ad95473",
   "metadata": {},
   "outputs": [],
   "source": [
    "df3 = pd.DataFrame(data=list_of_df,columns=[\"Decision_Tree_Regressor_Price\",\"Real_Price\"])"
   ]
  },
  {
   "cell_type": "code",
   "execution_count": 40,
   "id": "463af624",
   "metadata": {},
   "outputs": [
    {
     "data": {
      "text/html": [
       "<div>\n",
       "<style scoped>\n",
       "    .dataframe tbody tr th:only-of-type {\n",
       "        vertical-align: middle;\n",
       "    }\n",
       "\n",
       "    .dataframe tbody tr th {\n",
       "        vertical-align: top;\n",
       "    }\n",
       "\n",
       "    .dataframe thead th {\n",
       "        text-align: right;\n",
       "    }\n",
       "</style>\n",
       "<table border=\"1\" class=\"dataframe\">\n",
       "  <thead>\n",
       "    <tr style=\"text-align: right;\">\n",
       "      <th></th>\n",
       "      <th>Decision_Tree_Regressor_Price</th>\n",
       "      <th>Real_Price</th>\n",
       "    </tr>\n",
       "  </thead>\n",
       "  <tbody>\n",
       "    <tr>\n",
       "      <th>0</th>\n",
       "      <td>142900</td>\n",
       "      <td>119000</td>\n",
       "    </tr>\n",
       "    <tr>\n",
       "      <th>1</th>\n",
       "      <td>169750</td>\n",
       "      <td>169750</td>\n",
       "    </tr>\n",
       "    <tr>\n",
       "      <th>2</th>\n",
       "      <td>92750</td>\n",
       "      <td>95500</td>\n",
       "    </tr>\n",
       "    <tr>\n",
       "      <th>3</th>\n",
       "      <td>89875</td>\n",
       "      <td>102000</td>\n",
       "    </tr>\n",
       "    <tr>\n",
       "      <th>4</th>\n",
       "      <td>58900</td>\n",
       "      <td>57000</td>\n",
       "    </tr>\n",
       "    <tr>\n",
       "      <th>...</th>\n",
       "      <td>...</td>\n",
       "      <td>...</td>\n",
       "    </tr>\n",
       "    <tr>\n",
       "      <th>2018</th>\n",
       "      <td>135900</td>\n",
       "      <td>273750</td>\n",
       "    </tr>\n",
       "    <tr>\n",
       "      <th>2019</th>\n",
       "      <td>284500</td>\n",
       "      <td>295000</td>\n",
       "    </tr>\n",
       "    <tr>\n",
       "      <th>2020</th>\n",
       "      <td>109950</td>\n",
       "      <td>124000</td>\n",
       "    </tr>\n",
       "    <tr>\n",
       "      <th>2021</th>\n",
       "      <td>55000</td>\n",
       "      <td>70000</td>\n",
       "    </tr>\n",
       "    <tr>\n",
       "      <th>2022</th>\n",
       "      <td>86900</td>\n",
       "      <td>67500</td>\n",
       "    </tr>\n",
       "  </tbody>\n",
       "</table>\n",
       "<p>2023 rows × 2 columns</p>\n",
       "</div>"
      ],
      "text/plain": [
       "      Decision_Tree_Regressor_Price  Real_Price\n",
       "0                            142900      119000\n",
       "1                            169750      169750\n",
       "2                             92750       95500\n",
       "3                             89875      102000\n",
       "4                             58900       57000\n",
       "...                             ...         ...\n",
       "2018                         135900      273750\n",
       "2019                         284500      295000\n",
       "2020                         109950      124000\n",
       "2021                          55000       70000\n",
       "2022                          86900       67500\n",
       "\n",
       "[2023 rows x 2 columns]"
      ]
     },
     "execution_count": 40,
     "metadata": {},
     "output_type": "execute_result"
    }
   ],
   "source": [
    "df3"
   ]
  },
  {
   "cell_type": "markdown",
   "id": "39e2baed",
   "metadata": {},
   "source": [
    "Also I can visualize my result with using matplotlib library."
   ]
  },
  {
   "cell_type": "code",
   "execution_count": 41,
   "id": "9a9806b6",
   "metadata": {},
   "outputs": [
    {
     "data": {
      "image/png": "[encoded data removed]",
      "text/plain": [
       "<Figure size 432x288 with 1 Axes>"
      ]
     },
     "metadata": {
      "needs_background": "light"
     },
     "output_type": "display_data"
    }
   ],
   "source": [
    "plt.scatter(df3.Decision_Tree_Regressor_Price,df3.Real_Price)\n",
    "plt.show()"
   ]
  },
  {
   "cell_type": "code",
   "execution_count": null,
   "id": "36a2a8ce",
   "metadata": {},
   "outputs": [],
   "source": []
  }
 ],
 "metadata": {
  "kernelspec": {
   "display_name": "Python 3 (ipykernel)",
   "language": "python",
   "name": "python3"
  },
  "language_info": {
   "codemirror_mode": {
    "name": "ipython",
    "version": 3
   },
   "file_extension": ".py",
   "mimetype": "text/x-python",
   "name": "python",
   "nbconvert_exporter": "python",
   "pygments_lexer": "ipython3",
   "version": "3.9.7"
  }
 },
 "nbformat": 4,
 "nbformat_minor": 5
}
